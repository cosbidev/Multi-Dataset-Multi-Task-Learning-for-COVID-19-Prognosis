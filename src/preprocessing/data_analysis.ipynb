{
 "cells": [
  {
   "cell_type": "markdown",
   "source": [
    " Data Analysis\n",
    " \n",
    " -------------\n",
    " \n",
    " Importing the libraries\n",
    "\n",
    "\n"
   ],
   "metadata": {
    "collapsed": false
   },
   "id": "335daad9788ba926"
  },
  {
   "cell_type": "code",
   "execution_count": 2,
   "outputs": [
    {
     "name": "stdout",
     "output_type": "stream",
     "text": [
      "/Users/filruff/Documents/GitHub/COVID19-ItaChina\n"
     ]
    }
   ],
   "source": [
    "import os\n",
    "\n",
    "# Importing the dataset\n",
    "\n",
    "\n",
    "import numpy as np\n",
    "import pandas as pd\n",
    "\n",
    "os.chdir('/Users/filruff/Documents/GitHub/COVID19-ItaChina')\n",
    "print(os.getcwd())\n"
   ],
   "metadata": {
    "collapsed": false,
    "ExecuteTime": {
     "end_time": "2023-11-22T16:36:58.733769Z",
     "start_time": "2023-11-22T16:36:58.511827Z"
    }
   },
   "id": "8fba99628094632c"
  },
  {
   "cell_type": "code",
   "execution_count": 3,
   "outputs": [],
   "source": [
    "# Data Loaders for MORBIDITY TASK\n",
    "folds = range(5)\n",
    "\n",
    "fold_dir =  \"data/processed/AFC/5\"\n",
    "\n",
    "step = 'train'\n",
    "folds_data_train = {fold: pd.read_csv(os.path.join(fold_dir, str(fold), '%s.txt' % step), delimiter=\" \") for fold in folds}\n",
    "\n",
    "step = 'test'\n",
    "folds_data_test = {fold: pd.read_csv(os.path.join(fold_dir, str(fold), '%s.txt' % step), delimiter=\" \") for fold in folds}\n",
    "\n",
    "step = 'val'\n",
    "folds_data_valid = {fold: pd.read_csv(os.path.join(fold_dir, str(fold), '%s.txt' % step), delimiter=\" \") for fold in folds}\n",
    "\n",
    "\n"
   ],
   "metadata": {
    "collapsed": false,
    "ExecuteTime": {
     "end_time": "2023-11-22T16:36:58.780026Z",
     "start_time": "2023-11-22T16:36:58.737893Z"
    }
   },
   "id": "924e94b23ba7a7cf"
  },
  {
   "cell_type": "code",
   "execution_count": 4,
   "outputs": [
    {
     "name": "stdout",
     "output_type": "stream",
     "text": [
      "TRAIN:  0\n",
      "label\n",
      "MILD      498\n",
      "SEVERE    444\n",
      "Name: count, dtype: int64\n",
      "VAL:  0\n",
      "label\n",
      "MILD      166\n",
      "SEVERE    148\n",
      "Name: count, dtype: int64\n",
      "TEST:  0\n",
      "label\n",
      "MILD      166\n",
      "SEVERE    148\n",
      "Name: count, dtype: int64\n",
      "TRAIN:  1\n",
      "label\n",
      "MILD      498\n",
      "SEVERE    444\n",
      "Name: count, dtype: int64\n",
      "VAL:  1\n",
      "label\n",
      "MILD      166\n",
      "SEVERE    148\n",
      "Name: count, dtype: int64\n",
      "TEST:  1\n",
      "label\n",
      "MILD      166\n",
      "SEVERE    148\n",
      "Name: count, dtype: int64\n",
      "TRAIN:  2\n",
      "label\n",
      "MILD      498\n",
      "SEVERE    444\n",
      "Name: count, dtype: int64\n",
      "VAL:  2\n",
      "label\n",
      "MILD      166\n",
      "SEVERE    148\n",
      "Name: count, dtype: int64\n",
      "TEST:  2\n",
      "label\n",
      "MILD      166\n",
      "SEVERE    148\n",
      "Name: count, dtype: int64\n",
      "TRAIN:  3\n",
      "label\n",
      "MILD      498\n",
      "SEVERE    444\n",
      "Name: count, dtype: int64\n",
      "VAL:  3\n",
      "label\n",
      "MILD      166\n",
      "SEVERE    148\n",
      "Name: count, dtype: int64\n",
      "TEST:  3\n",
      "label\n",
      "MILD      166\n",
      "SEVERE    148\n",
      "Name: count, dtype: int64\n",
      "TRAIN:  4\n",
      "label\n",
      "MILD      498\n",
      "SEVERE    444\n",
      "Name: count, dtype: int64\n",
      "VAL:  4\n",
      "label\n",
      "MILD      166\n",
      "SEVERE    148\n",
      "Name: count, dtype: int64\n",
      "TEST:  4\n",
      "label\n",
      "MILD      166\n",
      "SEVERE    148\n",
      "Name: count, dtype: int64\n",
      "------------------\n",
      "TRAIN:  0\n",
      "center\n",
      "F    579\n",
      "C     90\n",
      "D     81\n",
      "A     72\n",
      "B     60\n",
      "E     60\n",
      "Name: count, dtype: int64\n",
      "VAL:  0\n",
      "center\n",
      "F    193\n",
      "C     30\n",
      "D     27\n",
      "A     24\n",
      "B     20\n",
      "E     20\n",
      "Name: count, dtype: int64\n",
      "TEST:  0\n",
      "center\n",
      "F    193\n",
      "C     30\n",
      "D     27\n",
      "A     24\n",
      "B     20\n",
      "E     20\n",
      "Name: count, dtype: int64\n",
      "TRAIN:  1\n",
      "center\n",
      "F    579\n",
      "C     90\n",
      "D     81\n",
      "A     72\n",
      "B     60\n",
      "E     60\n",
      "Name: count, dtype: int64\n",
      "VAL:  1\n",
      "center\n",
      "F    193\n",
      "C     30\n",
      "D     27\n",
      "A     24\n",
      "B     20\n",
      "E     20\n",
      "Name: count, dtype: int64\n",
      "TEST:  1\n",
      "center\n",
      "F    193\n",
      "C     30\n",
      "D     27\n",
      "A     24\n",
      "B     20\n",
      "E     20\n",
      "Name: count, dtype: int64\n",
      "TRAIN:  2\n",
      "center\n",
      "F    579\n",
      "C     90\n",
      "D     81\n",
      "A     72\n",
      "B     60\n",
      "E     60\n",
      "Name: count, dtype: int64\n",
      "VAL:  2\n",
      "center\n",
      "F    193\n",
      "C     30\n",
      "D     27\n",
      "A     24\n",
      "B     20\n",
      "E     20\n",
      "Name: count, dtype: int64\n",
      "TEST:  2\n",
      "center\n",
      "F    193\n",
      "C     30\n",
      "D     27\n",
      "A     24\n",
      "B     20\n",
      "E     20\n",
      "Name: count, dtype: int64\n",
      "TRAIN:  3\n",
      "center\n",
      "F    579\n",
      "C     90\n",
      "D     81\n",
      "A     72\n",
      "B     60\n",
      "E     60\n",
      "Name: count, dtype: int64\n",
      "VAL:  3\n",
      "center\n",
      "F    193\n",
      "C     30\n",
      "D     27\n",
      "A     24\n",
      "B     20\n",
      "E     20\n",
      "Name: count, dtype: int64\n",
      "TEST:  3\n",
      "center\n",
      "F    193\n",
      "C     30\n",
      "D     27\n",
      "A     24\n",
      "B     20\n",
      "E     20\n",
      "Name: count, dtype: int64\n",
      "TRAIN:  4\n",
      "center\n",
      "F    579\n",
      "C     90\n",
      "D     81\n",
      "A     72\n",
      "B     60\n",
      "E     60\n",
      "Name: count, dtype: int64\n",
      "VAL:  4\n",
      "center\n",
      "F    193\n",
      "C     30\n",
      "D     27\n",
      "A     24\n",
      "B     20\n",
      "E     20\n",
      "Name: count, dtype: int64\n",
      "TEST:  4\n",
      "center\n",
      "F    193\n",
      "C     30\n",
      "D     27\n",
      "A     24\n",
      "B     20\n",
      "E     20\n",
      "Name: count, dtype: int64\n"
     ]
    }
   ],
   "source": [
    "for fold in folds: \n",
    "    print('TRAIN: ', fold)\n",
    "    print(folds_data_train[fold].value_counts('label'))\n",
    "    print('VAL: ', fold)\n",
    "    print(folds_data_valid[fold].value_counts('label'))\n",
    "    print('TEST: ', fold)\n",
    "    print(folds_data_test[fold].value_counts('label'))\n",
    "print('------------------')\n",
    "# COUNTS the Centers\n",
    "for fold in folds: \n",
    "    print('TRAIN: ', fold)\n",
    "    print(folds_data_train[fold].value_counts('center'))\n",
    "    print('VAL: ', fold)\n",
    "    print(folds_data_valid[fold].value_counts('center'))\n",
    "    print('TEST: ', fold)\n",
    "    print(folds_data_test[fold].value_counts('center'))\n",
    "\n"
   ],
   "metadata": {
    "collapsed": false,
    "ExecuteTime": {
     "end_time": "2023-11-22T16:36:58.786248Z",
     "start_time": "2023-11-22T16:36:58.756299Z"
    }
   },
   "id": "17955e447bb9889a"
  },
  {
   "cell_type": "markdown",
   "source": [
    "Here we are checking if the same ids are present in the different folds"
   ],
   "metadata": {
    "collapsed": false
   },
   "id": "62313292d27b9e0a"
  },
  {
   "cell_type": "code",
   "execution_count": 5,
   "outputs": [
    {
     "name": "stdout",
     "output_type": "stream",
     "text": [
      "TRAIN:  0\n",
      "img\n",
      "False    942\n",
      "Name: count, dtype: int64\n",
      "VAL:  0\n",
      "img\n",
      "False    314\n",
      "Name: count, dtype: int64\n",
      "TEST:  0\n",
      "img\n",
      "False    314\n",
      "Name: count, dtype: int64\n",
      "TRAIN:  1\n",
      "img\n",
      "False    942\n",
      "Name: count, dtype: int64\n",
      "VAL:  1\n",
      "img\n",
      "False    314\n",
      "Name: count, dtype: int64\n",
      "TEST:  1\n",
      "img\n",
      "False    314\n",
      "Name: count, dtype: int64\n",
      "TRAIN:  2\n",
      "img\n",
      "False    942\n",
      "Name: count, dtype: int64\n",
      "VAL:  2\n",
      "img\n",
      "False    314\n",
      "Name: count, dtype: int64\n",
      "TEST:  2\n",
      "img\n",
      "False    314\n",
      "Name: count, dtype: int64\n",
      "TRAIN:  3\n",
      "img\n",
      "False    942\n",
      "Name: count, dtype: int64\n",
      "VAL:  3\n",
      "img\n",
      "False    314\n",
      "Name: count, dtype: int64\n",
      "TEST:  3\n",
      "img\n",
      "False    314\n",
      "Name: count, dtype: int64\n",
      "TRAIN:  4\n",
      "img\n",
      "False    942\n",
      "Name: count, dtype: int64\n",
      "VAL:  4\n",
      "img\n",
      "False    314\n",
      "Name: count, dtype: int64\n",
      "TEST:  4\n",
      "img\n",
      "False    314\n",
      "Name: count, dtype: int64\n",
      "------------------\n"
     ]
    }
   ],
   "source": [
    "# Here we are ch\n",
    "\n",
    "\n",
    "for fold in folds: \n",
    "    list_ids = folds_data_valid[fold]['img'].tolist() + folds_data_test[fold]['img'].tolist()\n",
    "    train_ids = folds_data_train[fold]['img'].tolist()\n",
    "    print('TRAIN: ', fold)\n",
    "    print((folds_data_train[fold].isin(folds_data_valid[fold]['img'].tolist() + folds_data_test[fold]['img'].tolist())).value_counts('img'))\n",
    "    print('VAL: ', fold)\n",
    "    print((folds_data_valid[fold].isin(folds_data_train[fold]['img'].tolist())).value_counts('img'))\n",
    "    print('TEST: ', fold)\n",
    "    print((folds_data_test[fold].isin(folds_data_train[fold]['img'].tolist())).value_counts('img'))\n",
    "print('------------------')\n",
    "    \n",
    "    \n",
    "    "
   ],
   "metadata": {
    "collapsed": false,
    "ExecuteTime": {
     "end_time": "2023-11-22T16:36:58.793035Z",
     "start_time": "2023-11-22T16:36:58.774403Z"
    }
   },
   "id": "ec1d711ff56db578"
  },
  {
   "cell_type": "markdown",
   "source": [
    "Now we count the numbers of labels in a single fold random\n",
    "\n"
   ],
   "metadata": {
    "collapsed": false
   },
   "id": "62cd568afa43467b"
  },
  {
   "cell_type": "code",
   "execution_count": 6,
   "outputs": [
    {
     "name": "stdout",
     "output_type": "stream",
     "text": [
      "label\n",
      "MILD      830\n",
      "SEVERE    740\n",
      "Name: count, dtype: int64\n",
      "center\n",
      "F    965\n",
      "C    150\n",
      "D    135\n",
      "A    120\n",
      "B    100\n",
      "E    100\n",
      "Name: count, dtype: int64\n"
     ]
    },
    {
     "data": {
      "text/plain": "    img label center\n0  P_18  MILD      A\n1   P_1  MILD      A\n2  P_74  MILD      A\n3   P_6  MILD      A\n4  P_36  MILD      A",
      "text/html": "<div>\n<style scoped>\n    .dataframe tbody tr th:only-of-type {\n        vertical-align: middle;\n    }\n\n    .dataframe tbody tr th {\n        vertical-align: top;\n    }\n\n    .dataframe thead th {\n        text-align: right;\n    }\n</style>\n<table border=\"1\" class=\"dataframe\">\n  <thead>\n    <tr style=\"text-align: right;\">\n      <th></th>\n      <th>img</th>\n      <th>label</th>\n      <th>center</th>\n    </tr>\n  </thead>\n  <tbody>\n    <tr>\n      <th>0</th>\n      <td>P_18</td>\n      <td>MILD</td>\n      <td>A</td>\n    </tr>\n    <tr>\n      <th>1</th>\n      <td>P_1</td>\n      <td>MILD</td>\n      <td>A</td>\n    </tr>\n    <tr>\n      <th>2</th>\n      <td>P_74</td>\n      <td>MILD</td>\n      <td>A</td>\n    </tr>\n    <tr>\n      <th>3</th>\n      <td>P_6</td>\n      <td>MILD</td>\n      <td>A</td>\n    </tr>\n    <tr>\n      <th>4</th>\n      <td>P_36</td>\n      <td>MILD</td>\n      <td>A</td>\n    </tr>\n  </tbody>\n</table>\n</div>"
     },
     "execution_count": 6,
     "metadata": {},
     "output_type": "execute_result"
    }
   ],
   "source": [
    "fold = 0\n",
    "\n",
    "all_dataset = pd.concat([folds_data_train[fold], folds_data_valid[fold], folds_data_test[fold]], ignore_index=True)\n",
    "\n",
    "# The Dataset is not quite balanced\n",
    "print(all_dataset.value_counts('label'))\n",
    "\n",
    "\n",
    "# Center distribution\n",
    "print(all_dataset.value_counts('center'))\n",
    "\n",
    "\n",
    "all_dataset.head(5)\n",
    "\n",
    "\n"
   ],
   "metadata": {
    "collapsed": false,
    "ExecuteTime": {
     "end_time": "2023-11-22T16:36:58.800999Z",
     "start_time": "2023-11-22T16:36:58.794980Z"
    }
   },
   "id": "b8cab0013b16ef05"
  },
  {
   "cell_type": "markdown",
   "source": [
    "LETS CONCAT ALL THE FOLDS TEST \n",
    "\n"
   ],
   "metadata": {
    "collapsed": false
   },
   "id": "4c8ecbfd7778661c"
  },
  {
   "cell_type": "code",
   "execution_count": 7,
   "outputs": [
    {
     "name": "stdout",
     "output_type": "stream",
     "text": [
      "label\n",
      "MILD      830\n",
      "SEVERE    740\n",
      "Name: count, dtype: int64\n",
      "center\n",
      "F    965\n",
      "C    150\n",
      "D    135\n",
      "A    120\n",
      "B    100\n",
      "E    100\n",
      "Name: count, dtype: int64\n"
     ]
    }
   ],
   "source": [
    "all_dataset_test = pd.concat([folds_data_test[fold] for fold in folds], ignore_index=True)\n",
    "# The Dataset is not quite balanced\n",
    "print(all_dataset_test.value_counts('label'))\n",
    "\n",
    "\n",
    "# Center distribution\n",
    "print(all_dataset_test.value_counts('center'))\n",
    "\n"
   ],
   "metadata": {
    "collapsed": false,
    "ExecuteTime": {
     "end_time": "2023-11-22T16:36:58.819904Z",
     "start_time": "2023-11-22T16:36:58.801534Z"
    }
   },
   "id": "78b27bab2fec515a"
  },
  {
   "cell_type": "code",
   "execution_count": 16,
   "outputs": [],
   "source": [
    "# CREATE A FILE WITH 1-2 release\n",
    "\n",
    "base_data_folder = 'data/AIforCOVID'\n",
    "# CLINICAL DATA\n",
    "meta_path = os.path.join(base_data_folder, 'AIforCOVID.xlsx')\n",
    "meta_path_2 = os.path.join(base_data_folder, 'AIforCOVID_r2.xlsx')\n",
    "\n",
    "# Clinical Data:\n",
    "clinical_meta_ = pd.read_excel(meta_path)\n",
    "clinical_meta_2 = pd.read_excel(meta_path_2)\n",
    "clinical_meta_global = pd.concat([clinical_meta_, clinical_meta_2])\n",
    "\n",
    "# Open BOX file with the labels for three release\n",
    "box_three_release = pd.read_excel(os.path.join(base_data_folder, 'processed/box_data_AXF123.xlsx'))\n",
    "\n",
    "\n",
    "# Select only the rows with the ids in the two release file \n",
    "box_two_release = box_three_release[box_three_release['img'].isin(clinical_meta_global['ImageFile'].tolist())].reset_index(drop=True)\n",
    "\n",
    "# Save the file\n",
    "box_two_release.to_excel(os.path.join(base_data_folder, 'processed/box_data_AXF12.xlsx'))\n",
    "\n",
    "\n",
    "\n",
    "pass\n",
    "\n"
   ],
   "metadata": {
    "collapsed": false,
    "ExecuteTime": {
     "end_time": "2023-11-22T16:40:24.445936Z",
     "start_time": "2023-11-22T16:40:23.981351Z"
    }
   },
   "id": "1648862f239f480a"
  },
  {
   "cell_type": "code",
   "execution_count": null,
   "outputs": [],
   "source": [],
   "metadata": {
    "collapsed": false,
    "ExecuteTime": {
     "start_time": "2023-11-22T16:36:59.261009Z"
    }
   },
   "id": "863ef2dfc677d61e"
  }
 ],
 "metadata": {
  "kernelspec": {
   "display_name": "Python 3",
   "language": "python",
   "name": "python3"
  },
  "language_info": {
   "codemirror_mode": {
    "name": "ipython",
    "version": 2
   },
   "file_extension": ".py",
   "mimetype": "text/x-python",
   "name": "python",
   "nbconvert_exporter": "python",
   "pygments_lexer": "ipython2",
   "version": "2.7.6"
  }
 },
 "nbformat": 4,
 "nbformat_minor": 5
}
